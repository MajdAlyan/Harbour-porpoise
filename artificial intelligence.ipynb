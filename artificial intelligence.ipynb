{
 "cells": [
  {
   "cell_type": "code",
   "execution_count": 1,
   "metadata": {},
   "outputs": [],
   "source": [
    "import os \n",
    "import pandas as pd "
   ]
  },
  {
   "cell_type": "code",
   "execution_count": 2,
   "metadata": {},
   "outputs": [],
   "source": [
    "directory = '/home/majd/Schreibtisch/Arbeit/PAL_DE'"
   ]
  },
  {
   "cell_type": "code",
   "execution_count": 3,
   "metadata": {},
   "outputs": [
    {
     "data": {
      "text/plain": [
       "['DE_PAL_6879_MP_230217_train_ok.xlsx',\n",
       " 'DE_PAL_6880_MP_230516_train_ok.xlsx',\n",
       " 'DE_PAL_6881_RD_230403_train_ok.xlsx',\n",
       " 'DE_PAL_6882_BS_230403_train_ok.xlsx',\n",
       " 'DE_PAL_6890_BS_230322_train_ok.xlsx']"
      ]
     },
     "execution_count": 3,
     "metadata": {},
     "output_type": "execute_result"
    }
   ],
   "source": [
    "excel_files = [file for file in os.listdir(\n",
    "        directory) if file.endswith('.xlsx')]\n",
    "excel_files.sort()\n",
    "excel_files"
   ]
  },
  {
   "cell_type": "code",
   "execution_count": 4,
   "metadata": {},
   "outputs": [
    {
     "data": {
      "text/plain": [
       "'\\n\\ndfs = []\\nfor file in excel_files:\\n    df=pd.read_excel(file)\\n    dfs.append(df)\\n\\n'"
      ]
     },
     "execution_count": 4,
     "metadata": {},
     "output_type": "execute_result"
    }
   ],
   "source": [
    "'''\n",
    "\n",
    "dfs = []\n",
    "for file in excel_files:\n",
    "    df=pd.read_excel(file)\n",
    "    dfs.append(df)\n",
    "\n",
    "'''"
   ]
  },
  {
   "cell_type": "code",
   "execution_count": 5,
   "metadata": {},
   "outputs": [],
   "source": [
    "df0 = pd.read_excel(excel_files[0])\n",
    "df1 = pd.read_excel(excel_files[1])\n",
    "df2 = pd.read_excel(excel_files[2])\n",
    "Nofclx0 = df0['NofClx']\n",
    "HP0 = df0['HP'] \n",
    "PAL0 = df0['PAL']\n",
    "Nofclx1 = df1['NofClx']\n",
    "HP1 = df1['HP']\n",
    "PAL1 = df1['PAL']\n",
    "Nofclx2 = df2['NofClx']\n",
    "HP2 = df2['HP']\n",
    "PAL2 = df2['HP']"
   ]
  },
  {
   "cell_type": "code",
   "execution_count": 6,
   "metadata": {},
   "outputs": [],
   "source": [
    "HP0 = HP0.fillna(0)\n",
    "HP1 = HP1.fillna(0)\n"
   ]
  },
  {
   "cell_type": "code",
   "execution_count": 7,
   "metadata": {},
   "outputs": [
    {
     "name": "stdout",
     "output_type": "stream",
     "text": [
      "0    21350\n",
      "1       73\n",
      "?        2\n",
      "Name: HP, dtype: int64\n"
     ]
    }
   ],
   "source": [
    "import pandas as pd\n",
    "\n",
    "# Assuming 'your_column' is the name of the column you want to count values for\n",
    "your_column_values0 = HP0.value_counts()\n",
    "\n",
    "# Display the counts\n",
    "print(your_column_values0)\n"
   ]
  },
  {
   "cell_type": "code",
   "execution_count": 8,
   "metadata": {},
   "outputs": [
    {
     "name": "stdout",
     "output_type": "stream",
     "text": [
      "0.0    54618\n",
      "1.0      122\n",
      "Name: HP, dtype: int64\n"
     ]
    }
   ],
   "source": [
    "your_column_values1 = HP1.value_counts()\n",
    "print(your_column_values1)"
   ]
  },
  {
   "cell_type": "code",
   "execution_count": 9,
   "metadata": {},
   "outputs": [
    {
     "name": "stderr",
     "output_type": "stream",
     "text": [
      "2024-01-16 19:23:06.376829: I tensorflow/core/util/port.cc:113] oneDNN custom operations are on. You may see slightly different numerical results due to floating-point round-off errors from different computation orders. To turn them off, set the environment variable `TF_ENABLE_ONEDNN_OPTS=0`.\n",
      "2024-01-16 19:23:06.379341: I external/local_tsl/tsl/cuda/cudart_stub.cc:31] Could not find cuda drivers on your machine, GPU will not be used.\n",
      "2024-01-16 19:23:06.403154: E external/local_xla/xla/stream_executor/cuda/cuda_dnn.cc:9261] Unable to register cuDNN factory: Attempting to register factory for plugin cuDNN when one has already been registered\n",
      "2024-01-16 19:23:06.403195: E external/local_xla/xla/stream_executor/cuda/cuda_fft.cc:607] Unable to register cuFFT factory: Attempting to register factory for plugin cuFFT when one has already been registered\n",
      "2024-01-16 19:23:06.404124: E external/local_xla/xla/stream_executor/cuda/cuda_blas.cc:1515] Unable to register cuBLAS factory: Attempting to register factory for plugin cuBLAS when one has already been registered\n",
      "2024-01-16 19:23:06.408879: I external/local_tsl/tsl/cuda/cudart_stub.cc:31] Could not find cuda drivers on your machine, GPU will not be used.\n",
      "2024-01-16 19:23:06.409485: I tensorflow/core/platform/cpu_feature_guard.cc:182] This TensorFlow binary is optimized to use available CPU instructions in performance-critical operations.\n",
      "To enable the following instructions: AVX2 AVX512F AVX512_VNNI FMA, in other operations, rebuild TensorFlow with the appropriate compiler flags.\n",
      "2024-01-16 19:23:07.103874: W tensorflow/compiler/tf2tensorrt/utils/py_utils.cc:38] TF-TRT Warning: Could not find TensorRT\n"
     ]
    },
    {
     "name": "stdout",
     "output_type": "stream",
     "text": [
      "Epoch 1/50\n"
     ]
    },
    {
     "name": "stderr",
     "output_type": "stream",
     "text": [
      "2024-01-16 19:23:09.032240: I external/local_xla/xla/stream_executor/cuda/cuda_executor.cc:901] successful NUMA node read from SysFS had negative value (-1), but there must be at least one NUMA node, so returning NUMA node zero. See more at https://github.com/torvalds/linux/blob/v6.0/Documentation/ABI/testing/sysfs-bus-pci#L344-L355\n",
      "2024-01-16 19:23:09.032654: W tensorflow/core/common_runtime/gpu/gpu_device.cc:2256] Cannot dlopen some GPU libraries. Please make sure the missing libraries mentioned above are installed properly if you would like to use GPU. Follow the guide at https://www.tensorflow.org/install/gpu for how to download and setup the required libraries for your platform.\n",
      "Skipping registering GPU devices...\n"
     ]
    },
    {
     "name": "stdout",
     "output_type": "stream",
     "text": [
      "1369/1369 [==============================] - 2s 936us/step - loss: 0.0364 - val_loss: 0.0024\n",
      "Epoch 2/50\n",
      "1369/1369 [==============================] - 1s 768us/step - loss: 0.0041 - val_loss: 0.0053\n",
      "Epoch 3/50\n",
      "1369/1369 [==============================] - 1s 767us/step - loss: 0.0097 - val_loss: 0.0026\n",
      "Epoch 4/50\n",
      "1369/1369 [==============================] - 1s 901us/step - loss: 0.0111 - val_loss: 0.0028\n",
      "Epoch 5/50\n",
      "1369/1369 [==============================] - 1s 785us/step - loss: 0.0061 - val_loss: 0.0036\n",
      "Epoch 6/50\n",
      "1369/1369 [==============================] - 1s 840us/step - loss: 0.0076 - val_loss: 0.0025\n",
      "Epoch 7/50\n",
      "1369/1369 [==============================] - 1s 770us/step - loss: 0.0139 - val_loss: 0.0024\n",
      "Epoch 8/50\n",
      "1369/1369 [==============================] - 1s 786us/step - loss: 0.0025 - val_loss: 0.0027\n",
      "Epoch 9/50\n",
      "1369/1369 [==============================] - 1s 828us/step - loss: 0.0058 - val_loss: 0.0029\n",
      "Epoch 10/50\n",
      "1369/1369 [==============================] - 1s 806us/step - loss: 0.0028 - val_loss: 0.0024\n",
      "Epoch 11/50\n",
      "1369/1369 [==============================] - 1s 786us/step - loss: 0.0033 - val_loss: 0.0026\n",
      "Epoch 12/50\n",
      "1369/1369 [==============================] - 1s 945us/step - loss: 0.0032 - val_loss: 0.0029\n",
      "Epoch 13/50\n",
      "1369/1369 [==============================] - 1s 962us/step - loss: 0.0039 - val_loss: 0.0026\n",
      "Epoch 14/50\n",
      "1369/1369 [==============================] - 1s 828us/step - loss: 0.0025 - val_loss: 0.0024\n",
      "Epoch 15/50\n",
      "1369/1369 [==============================] - 1s 775us/step - loss: 0.0046 - val_loss: 0.0024\n",
      "Epoch 16/50\n",
      "1369/1369 [==============================] - 1s 805us/step - loss: 0.0022 - val_loss: 0.0024\n",
      "Epoch 17/50\n",
      "1369/1369 [==============================] - 1s 829us/step - loss: 0.0027 - val_loss: 0.0024\n",
      "Epoch 18/50\n",
      "1369/1369 [==============================] - 1s 775us/step - loss: 0.0024 - val_loss: 0.0024\n",
      "Epoch 19/50\n",
      "1369/1369 [==============================] - 1s 791us/step - loss: 0.0023 - val_loss: 0.0025\n",
      "Epoch 20/50\n",
      "1369/1369 [==============================] - 1s 819us/step - loss: 0.0024 - val_loss: 0.0024\n",
      "Epoch 21/50\n",
      "1369/1369 [==============================] - 1s 844us/step - loss: 0.0024 - val_loss: 0.0025\n",
      "Epoch 22/50\n",
      "1369/1369 [==============================] - 1s 802us/step - loss: 0.0023 - val_loss: 0.0024\n",
      "Epoch 23/50\n",
      "1369/1369 [==============================] - 1s 834us/step - loss: 0.0023 - val_loss: 0.0024\n",
      "Epoch 24/50\n",
      "1369/1369 [==============================] - 1s 759us/step - loss: 0.0026 - val_loss: 0.0024\n",
      "Epoch 25/50\n",
      "1369/1369 [==============================] - 1s 753us/step - loss: 0.0022 - val_loss: 0.0024\n",
      "Epoch 26/50\n",
      "1369/1369 [==============================] - 1s 742us/step - loss: 0.0022 - val_loss: 0.0024\n",
      "Epoch 27/50\n",
      "1369/1369 [==============================] - 1s 703us/step - loss: 0.0022 - val_loss: 0.0024\n",
      "Epoch 28/50\n",
      "1369/1369 [==============================] - 1s 707us/step - loss: 0.0022 - val_loss: 0.0024\n",
      "Epoch 29/50\n",
      "1369/1369 [==============================] - 1s 739us/step - loss: 0.0022 - val_loss: 0.0024\n",
      "Epoch 30/50\n",
      "1369/1369 [==============================] - 1s 717us/step - loss: 0.0022 - val_loss: 0.0024\n",
      "Epoch 31/50\n",
      "1369/1369 [==============================] - 1s 733us/step - loss: 0.0022 - val_loss: 0.0024\n",
      "Epoch 32/50\n",
      "1369/1369 [==============================] - 1s 733us/step - loss: 0.0022 - val_loss: 0.0024\n",
      "Epoch 33/50\n",
      "1369/1369 [==============================] - 1s 731us/step - loss: 0.0022 - val_loss: 0.0024\n",
      "Epoch 34/50\n",
      "1369/1369 [==============================] - 1s 715us/step - loss: 0.0022 - val_loss: 0.0024\n",
      "Epoch 35/50\n",
      "1369/1369 [==============================] - 1s 707us/step - loss: 0.0022 - val_loss: 0.0024\n",
      "Epoch 36/50\n",
      "1369/1369 [==============================] - 1s 760us/step - loss: 0.0022 - val_loss: 0.0024\n",
      "Epoch 37/50\n",
      "1369/1369 [==============================] - 1s 705us/step - loss: 0.0022 - val_loss: 0.0024\n",
      "Epoch 38/50\n",
      "1369/1369 [==============================] - 1s 733us/step - loss: 0.0022 - val_loss: 0.0024\n",
      "Epoch 39/50\n",
      "1369/1369 [==============================] - 1s 766us/step - loss: 0.0022 - val_loss: 0.0024\n",
      "Epoch 40/50\n",
      "1369/1369 [==============================] - 1s 760us/step - loss: 0.0022 - val_loss: 0.0024\n",
      "Epoch 41/50\n",
      "1369/1369 [==============================] - 1s 725us/step - loss: 0.0022 - val_loss: 0.0024\n",
      "Epoch 42/50\n",
      "1369/1369 [==============================] - 1s 843us/step - loss: 0.0022 - val_loss: 0.0024\n",
      "Epoch 43/50\n",
      "1369/1369 [==============================] - 1s 856us/step - loss: 0.0022 - val_loss: 0.0024\n",
      "Epoch 44/50\n",
      "1369/1369 [==============================] - 1s 721us/step - loss: 0.0022 - val_loss: 0.0024\n",
      "Epoch 45/50\n",
      "1369/1369 [==============================] - 1s 748us/step - loss: 0.0022 - val_loss: 0.0024\n",
      "Epoch 46/50\n",
      "1369/1369 [==============================] - 1s 709us/step - loss: 0.0022 - val_loss: 0.0024\n",
      "Epoch 47/50\n",
      "1369/1369 [==============================] - 1s 716us/step - loss: 0.0022 - val_loss: 0.0024\n",
      "Epoch 48/50\n",
      "1369/1369 [==============================] - 1s 743us/step - loss: 0.0022 - val_loss: 0.0024\n",
      "Epoch 49/50\n",
      "1369/1369 [==============================] - 1s 725us/step - loss: 0.0022 - val_loss: 0.0024\n",
      "Epoch 50/50\n",
      "1369/1369 [==============================] - 1s 707us/step - loss: 0.0022 - val_loss: 0.0024\n",
      "343/343 [==============================] - 0s 516us/step - loss: 0.0024\n",
      "Mean Squared Error on Test Data: 0.002370834583416581\n",
      "343/343 [==============================] - 0s 478us/step\n"
     ]
    }
   ],
   "source": [
    "import tensorflow as tf\n",
    "from tensorflow.keras.models import Sequential\n",
    "from tensorflow.keras.layers import Dense\n",
    "from sklearn.model_selection import train_test_split\n",
    "from sklearn.preprocessing import StandardScaler\n",
    "\n",
    "# Assuming you have your data loaded in df0\n",
    "X = Nofclx1.values.reshape(-1, 1)  # Features (NofClx)\n",
    "y = HP1.values  # Target variable (HP)\n",
    "# Split the data into training and testing sets\n",
    "X_train, X_test, y_train, y_test = train_test_split(X, y, \n",
    "                            test_size=0.2, random_state=42)\n",
    "\n",
    "\n",
    "# Build the neural network model\n",
    "model = Sequential([\n",
    "    Dense(64, activation='relu', input_shape=(1,)),\n",
    "    Dense(32, activation='relu'),\n",
    "    Dense(1)  # No activation function for regression\n",
    "])\n",
    "\n",
    "# Compile the model\n",
    "model.compile(optimizer='adam', loss='mean_squared_error')\n",
    "\n",
    "# Train the model\n",
    "model.fit(X_train, y_train, epochs=50, batch_size=32, validation_data=(X_test, y_test))\n",
    "\n",
    "# Evaluate the model\n",
    "loss = model.evaluate(X_test, y_test)\n",
    "print(f\"Mean Squared Error on Test Data: {loss}\")\n",
    "\n",
    "# Make predictions\n",
    "predictions = model.predict(X_test)"
   ]
  },
  {
   "cell_type": "code",
   "execution_count": 10,
   "metadata": {},
   "outputs": [],
   "source": [
    "import numpy as np\n",
    "predictions = np.array(predictions)\n",
    "predictions2 = predictions.argmax(axis=1)"
   ]
  },
  {
   "cell_type": "code",
   "execution_count": null,
   "metadata": {},
   "outputs": [],
   "source": []
  },
  {
   "cell_type": "code",
   "execution_count": null,
   "metadata": {},
   "outputs": [],
   "source": []
  }
 ],
 "metadata": {
  "kernelspec": {
   "display_name": "Python 3",
   "language": "python",
   "name": "python3"
  },
  "language_info": {
   "codemirror_mode": {
    "name": "ipython",
    "version": 3
   },
   "file_extension": ".py",
   "mimetype": "text/x-python",
   "name": "python",
   "nbconvert_exporter": "python",
   "pygments_lexer": "ipython3",
   "version": "3.10.12"
  }
 },
 "nbformat": 4,
 "nbformat_minor": 2
}
